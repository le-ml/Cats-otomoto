{
 "cells": [
  {
   "cell_type": "code",
   "execution_count": null,
   "id": "72450168-98ee-4213-99aa-722cf729aadd",
   "metadata": {
    "canvas": {
     "comments": [],
     "componentType": "CodeCell",
     "copiedOriginId": null,
     "diskcache": false,
     "headerColor": "inherit",
     "id": "2679282c-2c1b-4143-8787-d0d0827ba392",
     "isComponent": true,
     "name": "Import library",
     "parents": []
    },
    "tags": []
   },
   "outputs": [],
   "source": [
    "import numpy as np\n",
    "import pandas as pd\n",
    "import matplotlib.pyplot as plt\n",
    "import sklearn\n",
    "import plotly.express as px\n",
    "from datetime import datetime\n",
    "import seaborn as sns"
   ]
  },
  {
   "cell_type": "code",
   "execution_count": null,
   "id": "085b3618-c642-4408-8414-61daf7d2fe6d",
   "metadata": {
    "canvas": {
     "comments": [],
     "componentType": "CodeCell",
     "copiedOriginId": null,
     "diskcache": false,
     "headerColor": "inherit",
     "id": "8446553d-4141-45a9-b800-31f0687f0024",
     "isComponent": true,
     "name": "Import library part 2",
     "parents": []
    },
    "tags": []
   },
   "outputs": [],
   "source": [
    "from pylab import rcParams\n",
    "from sklearn.linear_model import LinearRegression\n",
    "from sklearn.preprocessing import scale\n",
    "from sklearn import metrics\n",
    "from sklearn import datasets\n",
    "from sklearn.datasets import load_boston"
   ]
  },
  {
   "cell_type": "code",
   "execution_count": null,
   "id": "12ae3f91-2760-42d4-96fa-30f5b58f5471",
   "metadata": {
    "canvas": {
     "comments": [],
     "componentType": "CodeCell",
     "copiedOriginId": null,
     "diskcache": false,
     "headerColor": "inherit",
     "id": "dc6a0704-766a-47c3-935f-71c2cee8b608",
     "isComponent": true,
     "name": "Install Openpyxl with pip",
     "parents": []
    },
    "tags": []
   },
   "outputs": [],
   "source": [
    "# import pip\n",
    "#pip.main([\"install\", \"openpyxl\"])"
   ]
  },
  {
   "cell_type": "code",
   "execution_count": null,
   "id": "58661a00-0844-4c84-8cc4-7cd1f84e2bc6",
   "metadata": {
    "canvas": {
     "comments": [],
     "componentType": "CodeCell",
     "copiedOriginId": null,
     "diskcache": false,
     "headerColor": "inherit",
     "id": "409e2a1c-3035-4edd-9205-6b1b8aefe7d9",
     "isComponent": true,
     "name": "Read excel files",
     "parents": [
      {
       "id": "2679282c-2c1b-4143-8787-d0d0827ba392",
       "name": "Import library"
      }
     ]
    },
    "tags": []
   },
   "outputs": [],
   "source": [
    "#read files\n",
    "s_aut = pd.read_excel('15% uzywane manualna.xlsx')\n",
    "s_man = pd.read_excel('20% uzywane automatyczna.xlsx')\n",
    "s_man.head(3)"
   ]
  },
  {
   "cell_type": "code",
   "execution_count": null,
   "id": "e0d44b49-4c9c-4f56-aeaf-db821d6f9c9b",
   "metadata": {
    "canvas": {
     "comments": [],
     "componentType": "CodeCell",
     "copiedOriginId": null,
     "diskcache": false,
     "headerColor": "inherit",
     "id": "293bd03b-548e-4e6b-bb2e-d4caa64f62a6",
     "isComponent": false,
     "name": "",
     "parents": []
    }
   },
   "outputs": [],
   "source": [
    "#test \n",
    "s_man.head(2)"
   ]
  },
  {
   "cell_type": "code",
   "execution_count": null,
   "id": "e673787e-36ca-4112-8613-5634498304fe",
   "metadata": {
    "canvas": {
     "comments": [],
     "componentType": "CodeCell",
     "copiedOriginId": null,
     "diskcache": false,
     "headerColor": "inherit",
     "id": "37203dda-9302-4d32-b944-56575d8729e8",
     "isComponent": true,
     "name": "Data cleaning",
     "parents": [
      {
       "id": "409e2a1c-3035-4edd-9205-6b1b8aefe7d9",
       "name": "Read excel files"
      }
     ]
    },
    "tags": []
   },
   "outputs": [],
   "source": [
    "#drop column s_man\n",
    "del s_man['ooa-1e56i1c']\n",
    "del s_man['ooa-1dwk0yu href']\n",
    "del s_man['eploibe0']\n",
    "del s_man['fin_link_list_a']\n",
    "del s_man['ooa-16xi4ja href']\n",
    "del s_man['ooa-a837x4 src']\n",
    "del s_man['e1b25f6f20']\n",
    "del s_man['ooa-1ohf0ui']\n",
    "del s_man['fin_link_list_span_1']\n",
    "del s_man['ooa-0']\n",
    "del s_man['ooa-l5u4as href']\n",
    "del s_man['fin_link_list_a href']\n",
    "del s_man['e1b25f6f18 src']\n",
    "\n",
    "\n",
    "#drop column s_man\n",
    "del s_aut['ooa-1e56i1c']\n",
    "del s_aut['ooa-1dwk0yu href']\n",
    "del s_aut['eploibe0']\n",
    "del s_aut['fin_link_list_a']\n",
    "del s_aut['ooa-16xi4ja href']\n",
    "del s_aut['ooa-a837x4 src']\n",
    "del s_aut['e1b25f6f20']\n",
    "del s_aut['ooa-1ohf0ui']\n",
    "del s_aut['fin_link_list_span_1']\n",
    "del s_aut['ooa-0']\n",
    "del s_aut['ooa-l5u4as href']\n",
    "del s_aut['fin_link_list_a href']\n",
    "del s_aut['e1b25f6f18 src']\n",
    "\n",
    "#columns headers rename \n",
    "\n",
    "s_man.rename(columns={\"e1b25f6f6\":\"Name\" ,\"e1b25f6f6 href\":\"Link\" , \"e1b25f6f12\":\"Description\", \n",
    "                      \"ooa-1k7nwcr\":\"Year\", \"ooa-1k7nwcr 2\":\"Mileage\", \"ooa-1k7nwcr 3\":\"Capacity\",\n",
    "                     \"ooa-1k7nwcr 4\":\"Fuel\", \"ooa-fzu03x\":\"Location\",\n",
    "                     \"ooa-1bmnxg7\":\"Price\", \"fin_link_list_span_1 2\":\"Currency\" },inplace=True)\n",
    "\n",
    "s_aut.rename(columns={\"e1b25f6f6\":\"Name\" ,\"e1b25f6f6 href\":\"Link\" , \"e1b25f6f12\":\"Description\", \n",
    "                      \"ooa-1k7nwcr\":\"Year\", \"ooa-1k7nwcr 2\":\"Mileage\", \"ooa-1k7nwcr 3\":\"Capacity\",\n",
    "                     \"ooa-1k7nwcr 4\":\"Fuel\", \"ooa-fzu03x\":\"Location\",\n",
    "                     \"ooa-1bmnxg7\":\"Price\", \"fin_link_list_span_1 2\":\"Currency\" },inplace=True)\n",
    "\n",
    "\n",
    "#Drop PLN and \" \" from tables \n",
    "s_man['Price'] = s_man['Price'].str.replace('PLN', '')\n",
    "s_man['Price'] = s_man['Price'].str.replace('EUR', '')\n",
    "s_man['Price'] = s_man['Price'].str.replace(' ', '')\n",
    "s_aut['Price'] = s_aut['Price'].str.replace('PLN', '')\n",
    "s_aut['Price'] = s_aut['Price'].str.replace('EUR', '')\n",
    "s_aut['Price'] = s_aut['Price'].str.replace(' ', '')\n",
    "\n",
    "#Drop \"cm3\"  and \" \"\n",
    "s_man['Capacity'] = s_man['Capacity'].str.replace(' ', '')\n",
    "s_man['Capacity'] = s_man['Capacity'].str.replace('cm3', '')\n",
    "s_aut['Capacity'] = s_aut['Capacity'].str.replace(' ', '')\n",
    "s_aut['Capacity'] = s_aut['Capacity'].str.replace('cm3', '')\n",
    "\n",
    "#Drop \"km\" and \" \" \n",
    "s_man['Mileage'] = s_man['Mileage'].str.replace('km', '')\n",
    "s_man['Mileage'] = s_man['Mileage'].str.replace(' ', '')\n",
    "\n",
    "s_aut['Mileage'] = s_aut['Mileage'].str.replace('km', '')\n",
    "s_aut['Mileage'] = s_aut['Mileage'].str.replace(' ', '')\n"
   ]
  },
  {
   "cell_type": "code",
   "execution_count": null,
   "id": "b03ce4f0-18db-4c26-a995-53ad7ce5d3fc",
   "metadata": {
    "canvas": {
     "comments": [],
     "componentType": "CodeCell",
     "copiedOriginId": null,
     "diskcache": false,
     "headerColor": "inherit",
     "id": "47ec0ebd-4bc3-41c9-abbf-ef91eb736539",
     "isComponent": false,
     "name": "",
     "parents": []
    }
   },
   "outputs": [],
   "source": [
    "#Check numbers of null values \n",
    "s_aut.isnull().sum()\n"
   ]
  },
  {
   "cell_type": "code",
   "execution_count": null,
   "id": "d8dd8bc2-376d-48b0-893a-3bf240ae87eb",
   "metadata": {
    "canvas": {
     "comments": [],
     "componentType": "CodeCell",
     "copiedOriginId": null,
     "diskcache": false,
     "headerColor": "inherit",
     "id": "bb61e236-8841-45de-b971-260db199522c",
     "isComponent": false,
     "name": "",
     "parents": []
    }
   },
   "outputs": [],
   "source": [
    "#check unique data if need to remove\n",
    "s_man['Currency'].unique()"
   ]
  },
  {
   "cell_type": "code",
   "execution_count": null,
   "id": "bc59301d-472a-4c7e-82ff-bd55035f249b",
   "metadata": {
    "canvas": {
     "comments": [],
     "componentType": "CodeCell",
     "copiedOriginId": null,
     "diskcache": false,
     "headerColor": "inherit",
     "id": "f3ee635f-4f99-4d2c-a85c-b3fbc74d1d94",
     "isComponent": false,
     "name": "",
     "parents": []
    }
   },
   "outputs": [],
   "source": [
    "#Show records where is no data in\n",
    "s_aut[s_aut['Fuel'].isna()]"
   ]
  },
  {
   "cell_type": "code",
   "execution_count": null,
   "id": "ebee0adf-a932-4de6-835c-7870784e2de2",
   "metadata": {
    "canvas": {
     "comments": [],
     "componentType": "CodeCell",
     "copiedOriginId": null,
     "diskcache": false,
     "headerColor": "inherit",
     "id": "3255ffc8-b34f-4607-a09c-99c5636a0c43",
     "isComponent": false,
     "name": "",
     "parents": []
    }
   },
   "outputs": [],
   "source": [
    "#Check dtype and numbers of value in columnss_man.info() s_aut or s_man\n",
    "s_man.info()"
   ]
  },
  {
   "cell_type": "code",
   "execution_count": null,
   "id": "61464445-c576-4218-9dd7-582f41c1c966",
   "metadata": {
    "canvas": {
     "comments": [],
     "componentType": "CodeCell",
     "copiedOriginId": null,
     "diskcache": false,
     "headerColor": "inherit",
     "id": "88395a8b-10a6-4b5e-8e00-d592e9683f39",
     "isComponent": false,
     "name": "",
     "parents": []
    }
   },
   "outputs": [],
   "source": []
  },
  {
   "cell_type": "code",
   "execution_count": null,
   "id": "6479c5ff-0137-4f60-a910-6c9ae3c3e676",
   "metadata": {
    "canvas": {
     "comments": [],
     "componentType": "CodeCell",
     "copiedOriginId": null,
     "diskcache": false,
     "headerColor": "inherit",
     "id": "77647845-5393-42f0-8664-772eaff4d09c",
     "isComponent": true,
     "name": "Data cleaning part 2",
     "parents": [
      {
       "id": "37203dda-9302-4d32-b944-56575d8729e8",
       "name": "Data cleaning"
      }
     ]
    },
    "tags": []
   },
   "outputs": [],
   "source": [
    "#Drop the entire row if one of value is NA\n",
    "s_aut.dropna(subset=['Price', 'Location', 'Fuel', 'Currency'] ,inplace=True)\n",
    "s_man.dropna(subset=['Price', 'Location', 'Fuel', 'Currency'] ,inplace=True)\n",
    "\n",
    "#Change dtype\n",
    "s_man['Capacity'] = s_man['Capacity'].astype('int64')\n",
    "s_man['Mileage'] = s_man['Mileage'].astype('int64')\n",
    "s_man['Price'] = s_man['Price'].astype('int64')\n",
    "\n",
    "\n",
    "s_aut['Capacity'] = s_aut['Capacity'].astype('int64')\n",
    "s_aut['Mileage'] = s_aut['Mileage'].astype('int64')\n",
    "s_aut['Price'] = s_aut['Price'].astype('int64')\n",
    "\n"
   ]
  },
  {
   "cell_type": "code",
   "execution_count": null,
   "id": "7e84fee9-d3f4-4672-a45c-b60e25174b1a",
   "metadata": {
    "canvas": {
     "comments": [],
     "componentType": "CodeCell",
     "copiedOriginId": null,
     "diskcache": false,
     "headerColor": "inherit",
     "id": "a9d5b910-03bf-4e08-b9e2-cabcdae52e04",
     "isComponent": true,
     "name": "Transformation ",
     "parents": [
      {
       "id": "77647845-5393-42f0-8664-772eaff4d09c",
       "name": "Data cleaning part 2"
      }
     ]
    },
    "tags": []
   },
   "outputs": [],
   "source": [
    "# Add new column with brand and model based on name\n",
    "s_man['Model'] = s_man['Name'].str.split(' ').str[0]\n",
    "s_man['Brand'] = s_man['Name'].str.split(' ').str[1]\n",
    "\n",
    "s_aut['Model'] = s_man['Name'].str.split(' ').str[0]\n",
    "s_aut['Brand'] = s_man['Name'].str.split(' ').str[1]\n"
   ]
  },
  {
   "cell_type": "code",
   "execution_count": null,
   "id": "3fd657d5-3418-46c8-8ee0-e0b16258c7d6",
   "metadata": {
    "canvas": {
     "comments": [],
     "componentType": "CodeCell",
     "copiedOriginId": null,
     "diskcache": false,
     "headerColor": "inherit",
     "id": "86ebd8f4-377f-45ef-8d5d-4eec2091f1c0",
     "isComponent": true,
     "name": "Chart",
     "parents": [
      {
       "id": "a9d5b910-03bf-4e08-b9e2-cabcdae52e04",
       "name": "Transformation "
      }
     ]
    },
    "tags": []
   },
   "outputs": [],
   "source": []
  },
  {
   "cell_type": "code",
   "execution_count": null,
   "id": "1b376cff-9e69-42fe-a251-466e60b3c99e",
   "metadata": {
    "canvas": {
     "comments": [],
     "componentType": "CodeCell",
     "copiedOriginId": null,
     "diskcache": false,
     "headerColor": "inherit",
     "id": "deae04ac-82fa-4ea3-ae57-e77c17b0e6ce",
     "isComponent": false,
     "name": null,
     "parents": []
    },
    "tags": []
   },
   "outputs": [],
   "source": [
    "sns.distplot(s_man['Capacity']  )\n"
   ]
  },
  {
   "cell_type": "code",
   "execution_count": 34,
   "id": "350e9630-68da-40fb-a413-baa0b3a2dab2",
   "metadata": {
    "canvas": {
     "comments": [],
     "componentType": "CodeCell",
     "copiedOriginId": null,
     "diskcache": false,
     "headerColor": "inherit",
     "id": "f8d66030-2247-48c0-8b22-ef54ecd7b5f4",
     "isComponent": false,
     "name": "",
     "parents": []
    }
   },
   "outputs": [
    {
     "data": {
      "text/html": [
       "<div>\n",
       "<style scoped>\n",
       "    .dataframe tbody tr th:only-of-type {\n",
       "        vertical-align: middle;\n",
       "    }\n",
       "\n",
       "    .dataframe tbody tr th {\n",
       "        vertical-align: top;\n",
       "    }\n",
       "\n",
       "    .dataframe thead th {\n",
       "        text-align: right;\n",
       "    }\n",
       "</style>\n",
       "<table border=\"1\" class=\"dataframe\">\n",
       "  <thead>\n",
       "    <tr style=\"text-align: right;\">\n",
       "      <th></th>\n",
       "      <th>Year</th>\n",
       "      <th>Mileage</th>\n",
       "      <th>Capacity</th>\n",
       "    </tr>\n",
       "  </thead>\n",
       "  <tbody>\n",
       "    <tr>\n",
       "      <th>Year</th>\n",
       "      <td>1.000000</td>\n",
       "      <td>-0.594103</td>\n",
       "      <td>-0.313704</td>\n",
       "    </tr>\n",
       "    <tr>\n",
       "      <th>Mileage</th>\n",
       "      <td>-0.594103</td>\n",
       "      <td>1.000000</td>\n",
       "      <td>0.125967</td>\n",
       "    </tr>\n",
       "    <tr>\n",
       "      <th>Capacity</th>\n",
       "      <td>-0.313704</td>\n",
       "      <td>0.125967</td>\n",
       "      <td>1.000000</td>\n",
       "    </tr>\n",
       "  </tbody>\n",
       "</table>\n",
       "</div>"
      ],
      "text/plain": [
       "              Year   Mileage  Capacity\n",
       "Year      1.000000 -0.594103 -0.313704\n",
       "Mileage  -0.594103  1.000000  0.125967\n",
       "Capacity -0.313704  0.125967  1.000000"
      ]
     },
     "execution_count": 34,
     "metadata": {},
     "output_type": "execute_result"
    }
   ],
   "source": [
    "s_man.corr()"
   ]
  },
  {
   "cell_type": "code",
   "execution_count": null,
   "id": "dbbb2afc-ffd0-4604-a2a0-d169a104887c",
   "metadata": {
    "canvas": {
     "comments": [],
     "componentType": "CodeCell",
     "copiedOriginId": null,
     "diskcache": false,
     "headerColor": "inherit",
     "id": "37f19ec4-9341-4bd8-9827-8a31849f60a3",
     "isComponent": false,
     "name": "",
     "parents": []
    }
   },
   "outputs": [],
   "source": [
    "# "
   ]
  },
  {
   "cell_type": "code",
   "execution_count": null,
   "id": "adf9667a-d0d5-4db4-add8-eea1fae03d43",
   "metadata": {
    "canvas": {
     "comments": [],
     "componentType": "CodeCell",
     "copiedOriginId": null,
     "diskcache": false,
     "headerColor": "inherit",
     "id": "8a6c4399-9403-4fa6-9dbc-459f64e5f79e",
     "isComponent": false,
     "name": null,
     "parents": []
    },
    "tags": []
   },
   "outputs": [],
   "source": [
    "#Create a new df with selected requirements\n",
    "s_man2000 = s_man[s_man['Year']>=2000]\n",
    "s_man2000 = s_man[s_man['Capacity'].between(1000,4000)]"
   ]
  },
  {
   "cell_type": "code",
   "execution_count": null,
   "id": "ec4e7fd0-5e7f-434e-aa03-82a4b4f3d8d8",
   "metadata": {
    "canvas": {
     "comments": [],
     "componentType": "CodeCell",
     "copiedOriginId": null,
     "diskcache": false,
     "headerColor": "inherit",
     "id": "2dce5f8d-7e73-447d-981b-726439632d47",
     "isComponent": false,
     "name": "",
     "parents": []
    }
   },
   "outputs": [],
   "source": [
    "# https://python-charts.com/evolution/line-chart-plotly/ \n",
    "#create grup by for a numbers of cars eyach years\n",
    "\n",
    "fig = px.line(s_man, x=s_man['Year'], y=s_man['Capacity'])\n",
    "\n",
    "fig.show()"
   ]
  },
  {
   "cell_type": "code",
   "execution_count": null,
   "id": "5a068ab8-2392-4100-9314-0bf7accc3228",
   "metadata": {
    "canvas": {
     "comments": [],
     "componentType": "CodeCell",
     "copiedOriginId": null,
     "diskcache": false,
     "headerColor": "inherit",
     "id": "1ec18a85-9424-4806-9081-a116b2940baa",
     "isComponent": false,
     "name": "",
     "parents": []
    }
   },
   "outputs": [],
   "source": [
    "fig = px.imshow(s_aut)\n",
    "\n",
    "fig.show()\n"
   ]
  },
  {
   "cell_type": "code",
   "execution_count": null,
   "id": "7e5c33ab-4e4b-4de0-bc57-564a538d8142",
   "metadata": {
    "canvas": {
     "comments": [],
     "componentType": "CodeCell",
     "copiedOriginId": null,
     "diskcache": false,
     "headerColor": "inherit",
     "id": "b49dc25e-daa8-4cd9-8e6f-23018601a364",
     "isComponent": false,
     "name": "",
     "parents": []
    }
   },
   "outputs": [],
   "source": [
    "plt.scatter(x=s_man2000['Year'], y=s_man2000['Capacity'] )\n",
    "plt.figure(figsize=(80,80))\n",
    "plt.show()"
   ]
  },
  {
   "cell_type": "code",
   "execution_count": null,
   "id": "fdf37d37-ce82-4a86-a5d4-8bc8c54f3f65",
   "metadata": {
    "canvas": {
     "comments": [],
     "componentType": "CodeCell",
     "copiedOriginId": null,
     "diskcache": false,
     "headerColor": "inherit",
     "id": "a370d8fd-4ecf-4494-82f3-c1a00bcb31cc",
     "isComponent": false,
     "name": "",
     "parents": []
    }
   },
   "outputs": [],
   "source": [
    "px.density_heatmap(s_man2000, x='Capacity', y='Year' , z='Price')\n",
    "\n"
   ]
  },
  {
   "cell_type": "code",
   "execution_count": null,
   "id": "c1f5fc1d-284e-4b60-8a4a-506358cd44c6",
   "metadata": {
    "canvas": {
     "comments": [],
     "componentType": "CodeCell",
     "copiedOriginId": null,
     "diskcache": false,
     "headerColor": "inherit",
     "id": "ba16b897-526b-4817-843a-057c73e72a82",
     "isComponent": false,
     "name": "",
     "parents": []
    }
   },
   "outputs": [],
   "source": []
  }
 ],
 "metadata": {
  "canvas": {
   "colorPalette": [
    "inherit",
    "inherit",
    "inherit",
    "inherit",
    "inherit",
    "inherit",
    "inherit",
    "inherit",
    "inherit",
    "inherit"
   ],
   "parameters": [],
   "version": "1.0"
  },
  "kernelspec": {
   "display_name": "Python 3.7 (Link)",
   "language": "python",
   "name": "python3"
  },
  "language_info": {
   "codemirror_mode": {
    "name": "ipython",
    "version": 3
   },
   "file_extension": ".py",
   "mimetype": "text/x-python",
   "name": "python",
   "nbconvert_exporter": "python",
   "pygments_lexer": "ipython3",
   "version": "3.7.11"
  }
 },
 "nbformat": 4,
 "nbformat_minor": 5
}
